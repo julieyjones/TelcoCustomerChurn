{
  "cells": [
    {
      "cell_type": "code",
      "execution_count": null,
      "metadata": {
        "colab": {
          "background_save": true,
          "base_uri": "https://localhost:8080/"
        },
        "id": "KwpImXZWJe9j",
        "outputId": "b566f092-2990-4d17-bcc9-2dfb18402e3c"
      },
      "outputs": [
        {
          "name": "stdout",
          "output_type": "stream",
          "text": [
            "Best Hyperparameters: {'n_estimators': 150, 'min_samples_split': 2, 'min_samples_leaf': 2, 'max_depth': None}\n",
            "Accuracy on the test set: 73.39%\n"
          ]
        }
      ],
      "source": [
        "# Step 1: Import Libraries\n",
        "import pandas as pd\n",
        "from sklearn.ensemble import RandomForestClassifier\n",
        "from sklearn.model_selection import train_test_split, RandomizedSearchCV\n",
        "from sklearn.metrics import accuracy_score, classification_report\n",
        "\n",
        "# Step 2: Load and Explore Data\n",
        "df = pd.read_excel(\"/content/Telco_customer_churn 2.xlsx\")\n",
        "\n",
        "# Step 3: Preprocess Data\n",
        "relevant_columns = ['Tenure Months', 'Tech Support', 'Churn Value']\n",
        "df = df[relevant_columns]\n",
        "\n",
        "# Convert 'Tech Support' to binary (0 for 'Yes', 1 for 'No')\n",
        "df['Tech Support'] = df['Tech Support'].apply(lambda x: 0 if x.lower() == 'yes' else 1)\n",
        "\n",
        "# Drop rows with missing values\n",
        "df = df.dropna()\n",
        "\n",
        "features = df[['Tenure Months', 'Tech Support']]\n",
        "target = df['Churn Value']\n",
        "\n",
        "# Step 4: Split Data into Training and Testing Sets\n",
        "X_train, X_test, y_train, y_test = train_test_split(features, target, test_size=0.2, random_state=42)\n",
        "\n",
        "# Step 5: Hyperparameter Tuning using RandomizedSearchCV\n",
        "param_dist = {\n",
        "    'n_estimators': [50, 100, 150],\n",
        "    'max_depth': [None, 10, 20, 30],\n",
        "    'min_samples_split': [2, 5, 10],\n",
        "    'min_samples_leaf': [1, 2, 4]\n",
        "}\n",
        "\n",
        "random_search = RandomizedSearchCV(RandomForestClassifier(random_state=42), param_dist, n_iter=10, cv=5, scoring='accuracy', n_jobs=-1)\n",
        "random_search.fit(X_train, y_train)\n",
        "\n",
        "print(\"Best Hyperparameters:\", random_search.best_params_)\n",
        "\n",
        "# Step 6: Train a Model with Best Hyperparameters\n",
        "best_model = RandomForestClassifier(random_state=42, **random_search.best_params_)\n",
        "best_model.fit(X_train, y_train)\n",
        "\n",
        "# Step 7: Evaluate Model on Test Set\n",
        "y_pred = best_model.predict(X_test)\n",
        "accuracy = accuracy_score(y_test, y_pred)\n",
        "\n",
        "print(f\"Accuracy on the test set: {accuracy * 100:.2f}%\")\n",
        "\n",
        "# Step 8: User Input for Prediction\n",
        "tenure_months = float(input(\"Enter the customer's tenure months: \"))\n",
        "tech_support = input(\"Did the customer use tech support? (Yes/No): \").lower()\n",
        "state = input(\"Enter the customer's state: \")\n",
        "\n",
        "tech_support_encoded = 0 if tech_support == 'yes' else 1\n",
        "\n",
        "# Make Prediction\n",
        "user_prediction = best_model.predict([[tenure_months, tech_support_encoded]])\n",
        "\n",
        "# Display Results\n",
        "print(\"\\nPrediction Results:\")\n",
        "print(f\"State: {state}\")\n",
        "print(f\"Tenure Months: {tenure_months}\")\n",
        "print(f\"Used Tech Support: {tech_support}\")\n",
        "print(f\"Prediction: {'Churn' if user_prediction[0] == 1 else 'Not Churn'}\")\n"
      ]
    }
  ],
  "metadata": {
    "colab": {
      "provenance": []
    },
    "kernelspec": {
      "display_name": "Python 3",
      "name": "python3"
    },
    "language_info": {
      "name": "python"
    }
  },
  "nbformat": 4,
  "nbformat_minor": 0
}